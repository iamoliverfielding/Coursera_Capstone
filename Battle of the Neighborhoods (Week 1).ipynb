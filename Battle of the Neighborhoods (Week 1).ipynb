{
    "cells": [
        {
            "metadata": {
                "collapsed": true
            },
            "cell_type": "markdown",
            "source": "The Battle of the Neighborhoods - Week 1\n\nIntroduction & Business Problem :\n\nProblem Background:\nManchester is the third most populous city in the UK, and is increasingly becoming a major economic area within europe. It provides lots of business oppourtunities and is becoming one of the best places in the world to invest in real estate.  It is a global hub of business and commerce, and has become a major centre of tourism, the arts, finance, technology and virtually every major business industry there is.\n\nProblem Description:\nAs Manchester's industry grows it is important for investors to discover which areas within the city provide the best oppurtunities, and additionally find out what is the most populous business opportunity by each area within the city. To do achieve this goal, it is important to cluster each area within Manchester and discover the most popular business opportunities by area. \n\nData Description:\nThe data I am going to use is going to be gained from a combination of different sources. Foursquares' API is probably the most comprehensive, but I will also look at attempting to webscrape some data from required websites. \n\n"
        }
    ],
    "metadata": {
        "kernelspec": {
            "name": "python3",
            "display_name": "Python 3.7",
            "language": "python"
        },
        "language_info": {
            "name": "python",
            "version": "3.7.10",
            "mimetype": "text/x-python",
            "codemirror_mode": {
                "name": "ipython",
                "version": 3
            },
            "pygments_lexer": "ipython3",
            "nbconvert_exporter": "python",
            "file_extension": ".py"
        }
    },
    "nbformat": 4,
    "nbformat_minor": 1
}